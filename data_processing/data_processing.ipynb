{
  "cells": [
    {
      "attachments": {},
      "cell_type": "markdown",
      "metadata": {
        "id": "3u4zlSvHUK32"
      },
      "source": [
        "# Imports and Google Drive Mount"
      ]
    },
    {
      "attachments": {},
      "cell_type": "markdown",
      "metadata": {},
      "source": [
        "This code must be pasted along with the primary/baseline models to create the train-test-splits\n",
        "\n",
        "All notebooks are meant to be ran on Google Colab, but can be easily changed for a local machine."
      ]
    },
    {
      "cell_type": "code",
      "execution_count": null,
      "metadata": {
        "colab": {
          "base_uri": "https://localhost:8080/"
        },
        "id": "Tg2c1NiQM37Z",
        "outputId": "52387b2b-ec56-4d95-ccda-e95d541afe79"
      },
      "outputs": [
        {
          "data": {
            "text/plain": [
              "<contextlib.ExitStack at 0x7fba52ffdd00>"
            ]
          },
          "execution_count": 2,
          "metadata": {},
          "output_type": "execute_result"
        }
      ],
      "source": [
        "from __future__ import print_function, division\n",
        "import numpy as np\n",
        "import matplotlib.pyplot as plt\n",
        "\n",
        "import torch\n",
        "import torchvision\n",
        "import torchvision.transforms as transforms\n",
        "import torch.utils.data as data\n",
        "import torch.backends.cudnn as cudnn\n",
        "from torchvision import transforms\n",
        "\n",
        "# Set the manual seeds\n",
        "torch.manual_seed(42)\n",
        "torch.cuda.manual_seed(42)\n",
        "\n",
        "# Setup device agnostic code\n",
        "device = \"cuda\" if torch.cuda.is_available() else \"cpu\"\n",
        "\n",
        "cudnn.benchmark = True\n",
        "plt.ion()   # interactive mode"
      ]
    },
    {
      "cell_type": "code",
      "execution_count": null,
      "metadata": {
        "colab": {
          "base_uri": "https://localhost:8080/"
        },
        "id": "PFNmfo3XUKB4",
        "outputId": "e76131b1-3be5-443f-c51b-ca3ba58291c2"
      },
      "outputs": [
        {
          "name": "stdout",
          "output_type": "stream",
          "text": [
            "Mounted at /content/gdrive\n"
          ]
        }
      ],
      "source": [
        "from google.colab import drive\n",
        "drive.mount('/content/gdrive')"
      ]
    },
    {
      "cell_type": "code",
      "execution_count": null,
      "metadata": {
        "colab": {
          "base_uri": "https://localhost:8080/"
        },
        "id": "VUb6hhZZLt19",
        "outputId": "be065b05-7708-4f37-d851-372a05646b57"
      },
      "outputs": [
        {
          "name": "stdout",
          "output_type": "stream",
          "text": [
            "GPU 0: Tesla T4 (UUID: GPU-dc86b91d-bcea-4783-7cfd-99adbf35ce4d)\n"
          ]
        }
      ],
      "source": [
        "!nvidia-smi -L"
      ]
    },
    {
      "attachments": {},
      "cell_type": "markdown",
      "metadata": {
        "id": "-HGZVMjn9ndx"
      },
      "source": [
        "# Data Processing"
      ]
    },
    {
      "attachments": {},
      "cell_type": "markdown",
      "metadata": {
        "id": "KR4whSUBwFgI"
      },
      "source": [
        "## Data Transforms and Split"
      ]
    },
    {
      "cell_type": "code",
      "execution_count": null,
      "metadata": {
        "colab": {
          "base_uri": "https://localhost:8080/"
        },
        "id": "e5ollkZd0WEJ",
        "outputId": "0e6c11c4-ae84-483e-d3e0-bbb83c15669c"
      },
      "outputs": [
        {
          "name": "stdout",
          "output_type": "stream",
          "text": [
            "29034\n",
            "20323 4355 4356\n"
          ]
        }
      ],
      "source": [
        "main = '/content/gdrive/MyDrive/APS360 Project'\n",
        "\n",
        "# Define data transformations\n",
        "transform = transforms.Compose([\n",
        "    transforms.Resize((150, 150)),\n",
        "    transforms.RandomCrop((125, 125)),\n",
        "    transforms.RandomRotation(degrees=45),\n",
        "    transforms.RandomHorizontalFlip(p=0.5),\n",
        "    transforms.RandomVerticalFlip(p=0.05),\n",
        "    transforms.RandomResizedCrop(size=150, scale=(0.8, 1.0)),\n",
        "    transforms.ColorJitter(brightness=0.4),\n",
        "    transforms.ToTensor(),\n",
        "    transforms.Normalize(mean=[0.485, 0.456, 0.406], std=[0.229, 0.224, 0.225])\n",
        "])\n",
        "\n",
        "# 70-15-15 split\n",
        "dataset = torchvision.datasets.ImageFolder(main + '/aps360_project_dataset', transform=transform)\n",
        "\n",
        "train_size = int(0.7 * len(dataset))\n",
        "test_size = int(0.15 * len(dataset)) + 1\n",
        "val_size = int(0.15 * len(dataset))\n",
        "\n",
        "print(len(dataset))\n",
        "print(train_size, val_size, test_size)\n",
        "\n",
        "train_dataset, val_dataset, test_dataset = torch.utils.data.random_split(dataset, [train_size, val_size, test_size])\n"
      ]
    },
    {
      "attachments": {},
      "cell_type": "markdown",
      "metadata": {
        "id": "_GmstEC39Ud5"
      },
      "source": [
        "## Weighted Oversampling using Image Augmentation"
      ]
    },
    {
      "cell_type": "code",
      "execution_count": null,
      "metadata": {
        "colab": {
          "base_uri": "https://localhost:8080/"
        },
        "id": "ksybc5I3zwzC",
        "outputId": "f8df13a9-68d2-4bcc-a1dc-00fc7d4eb042"
      },
      "outputs": [
        {
          "name": "stdout",
          "output_type": "stream",
          "text": [
            "[2.0644456581103223, 2.2222222222222223, 1.0459324847814055, 1.0128617363344052, 1.0, 1.0316593886462881, 1.8890554722638682]\n",
            "[3780, 3780, 3779, 3780, 3780, 3779, 3780]\n",
            "26458 20323\n"
          ]
        }
      ],
      "source": [
        "# With Augmentation\n",
        "transform_train_subset = transforms.Compose([\n",
        "    transforms.Resize((150, 150)),\n",
        "    transforms.RandomCrop((125, 125)),\n",
        "    transforms.RandomRotation(degrees=45),\n",
        "    transforms.RandomHorizontalFlip(p=0.5),\n",
        "    transforms.RandomVerticalFlip(p=0.05),\n",
        "    transforms.RandomResizedCrop(size=150, scale=(0.8, 1.0)),\n",
        "    transforms.ColorJitter(brightness=0.4),\n",
        "    transforms.ToTensor(),\n",
        "    transforms.Normalize(mean=[0.485, 0.456, 0.406], std=[0.229, 0.224, 0.225])\n",
        "])\n",
        "\n",
        "# calculate the number of examples to sample from each class\n",
        "class_indices = np.array([1831, 1701, 3614, 3732, 3780, 3664, 2001])\n",
        "max_class_size = 3780\n",
        "class_weights = [(3780 / class_indices[c]) for c in range(7)]\n",
        "num_samples = [int(class_weights[c] * class_indices[c]) for c in range(7)]\n",
        "\n",
        "#for easier access simply copy paste the weights from sample_weights.txt as this loop will take a while to run\n",
        "sample_weights = np.zeros(len(train_dataset))\n",
        "sample_weights = [class_weights[label] for _, label in train_dataset]\n",
        "for idx, (tensor, label) in enumerate(train_dataset):\n",
        "    class_weight = class_weights[label]\n",
        "    sample_weights[idx] = class_weight\n",
        "\n",
        "# create a WeightedRandomSampler to oversample the training set\n",
        "sampler = data.WeightedRandomSampler(weights=sample_weights, num_samples=sum(num_samples), replacement=True)\n",
        "\n",
        "# create new training set with oversampled examples\n",
        "oversampled_train_dataset = data.Subset(train_dataset, indices=list(sampler))\n",
        "\n",
        "# Sampling the subset\n",
        "oversampled_train_dataset.transform = transform_train_subset\n",
        "\n",
        "print(len(oversampled_train_dataset), len(train_dataset))"
      ]
    },
    {
      "attachments": {},
      "cell_type": "markdown",
      "metadata": {
        "id": "BJv1gmJ6QtZN"
      },
      "source": [
        "## Count num samples per class"
      ]
    },
    {
      "cell_type": "code",
      "execution_count": null,
      "metadata": {
        "id": "0DhY_4bSw9tj"
      },
      "outputs": [],
      "source": [
        "from collections import Counter\n",
        "\n",
        "class_counts = Counter()\n",
        "#replace val_dataset with entire dataset, train, or test\n",
        "for i in range(len(val_dataset)):\n",
        "    _, label = val_dataset[i] # assuming the subset consists of (data, label) pairs\n",
        "    class_counts[label] += 1\n",
        "\n",
        "print(class_counts)"
      ]
    },
    {
      "cell_type": "code",
      "execution_count": null,
      "metadata": {},
      "outputs": [
        {
          "name": "stdout",
          "output_type": "stream",
          "text": [
            "{'buildings': 5256, 'desert': 4800, 'forest': 5145, 'glacier': 5357, 'mountain': 5437, 'sea': 5184, 'street': 5766}\n"
          ]
        },
        {
          "data": {
            "image/png": "[encoded data removed]",
            "text/plain": [
              "<Figure size 432x288 with 1 Axes>"
            ]
          },
          "metadata": {},
          "output_type": "display_data"
        }
      ],
      "source": [
        "# Convert dataset.targets to a PyTorch tensor\n",
        "targets = torch.tensor(dataset.targets)\n",
        "\n",
        "# Create a dictionary to store the number of images per class\n",
        "num_images = {}\n",
        "\n",
        "# Loop through each class and count the number of images\n",
        "for class_idx in range(len(dataset.classes)):\n",
        "    class_name = dataset.classes[class_idx]\n",
        "    num_images[class_name] = (targets == class_idx).sum().item()\n",
        "\n",
        "print(num_images)\n",
        "\n",
        "# Plot the number of images per class\n",
        "plt.bar(range(len(num_images)), list(num_images.values()))\n",
        "plt.xticks(range(len(num_images)), list(num_images.keys()))\n",
        "plt.show()"
      ]
    }
  ],
  "metadata": {
    "accelerator": "GPU",
    "colab": {
      "include_colab_link": true,
      "machine_shape": "hm",
      "provenance": [],
      "toc_visible": true
    },
    "gpuClass": "standard",
    "kernelspec": {
      "display_name": "Python 3",
      "name": "python3"
    },
    "language_info": {
      "name": "python"
    }
  },
  "nbformat": 4,
  "nbformat_minor": 0
}
